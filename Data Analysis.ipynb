{
 "cells": [
  {
   "cell_type": "markdown",
   "metadata": {},
   "source": [
    "## Introduction"
   ]
  },
  {
   "cell_type": "markdown",
   "metadata": {},
   "source": [
    "Data can be derived from numerous trends, results, or even hypotheses. This data is then used to calculate or lead to conclusions based on a certain circumstance. However, the goal of this report is to analyze the frequency of the first and last digits between 1-9 that appear within various columns of given data, and examine the results based on the correlation, or lack of, in relation to the data that the given numbers have come from. The digits that will be analyzed for this report will not be used to observe results for a certain circumstance, but will focus on the results for the data found in certain columns of the circumstance. \n",
    "\n",
    "The results that will be concluded from this data can be associated with a defintion known as *Benford's Law*, which is defined as \"the principle that in any large, randomly produced set of natural numbers, such as tables of logarithms or corporate sales statistics, around 30 percent will begin with the digit 1, 18 percent with 2, and so on, with the smallest percentage beginning with 9. The law is applied in analyzing the validity of statistics and financial records\" ([Benford's Law](https://www.lexico.com/en/definition/benford's_law)). This law has been used to identify various trends as shown in bar graphs based on numbers ranging from 1-9. \n",
    "\n",
    "This report will focus on the relevance of *Benford's Law* in relation to the given data sources by analyzing the first and last digits following the range."
   ]
  },
  {
   "cell_type": "markdown",
   "metadata": {},
   "source": [
    "### Helper functions:"
   ]
  },
  {
   "cell_type": "markdown",
   "metadata": {},
   "source": [
    "This part introduces the definitions that will be essential to the report, including the functions that derive the first digit, `fd`, and the last digit, `ld`, in any given data set or column. "
   ]
  },
  {
   "cell_type": "code",
   "execution_count": 1,
   "metadata": {},
   "outputs": [],
   "source": [
    "def fd(x): #Defines the first digit in a column of data\n",
    "    a=str(x) #Converts the data into a string\n",
    "    for i in a:\n",
    "        if i in '123456789':\n",
    "            return i #Returns the first nonzero digit in the data\n",
    "    return '0'"
   ]
  },
  {
   "cell_type": "code",
   "execution_count": 2,
   "metadata": {},
   "outputs": [
    {
     "data": {
      "text/plain": [
       "'1'"
      ]
     },
     "execution_count": 2,
     "metadata": {},
     "output_type": "execute_result"
    }
   ],
   "source": [
    "fd(127.47) #checking to see if the first digit function works with decimals"
   ]
  },
  {
   "cell_type": "code",
   "execution_count": 3,
   "metadata": {},
   "outputs": [
    {
     "data": {
      "text/plain": [
       "'9'"
      ]
     },
     "execution_count": 3,
     "metadata": {},
     "output_type": "execute_result"
    }
   ],
   "source": [
    "fd(0.098) #checking to see if the first digit function works with zeros and decimals"
   ]
  },
  {
   "cell_type": "code",
   "execution_count": 4,
   "metadata": {},
   "outputs": [],
   "source": [
    "def ld(x): #Defines the last digit in a column of data\n",
    "    a=str(x) #Converts the data into a string\n",
    "    for i in a[::-1]:\n",
    "        if i in '123456789':\n",
    "            return i  \n",
    "    return '0'"
   ]
  },
  {
   "cell_type": "code",
   "execution_count": 5,
   "metadata": {},
   "outputs": [
    {
     "data": {
      "text/plain": [
       "'4'"
      ]
     },
     "execution_count": 5,
     "metadata": {},
     "output_type": "execute_result"
    }
   ],
   "source": [
    "ld(1234) #checking to see if the last digit function works successfully with integers"
   ]
  },
  {
   "cell_type": "code",
   "execution_count": 6,
   "metadata": {},
   "outputs": [
    {
     "data": {
      "text/plain": [
       "'3'"
      ]
     },
     "execution_count": 6,
     "metadata": {},
     "output_type": "execute_result"
    }
   ],
   "source": [
    "ld(187.2930) #checking to see if the last digit function works successfully with decimals and zeros"
   ]
  },
  {
   "cell_type": "markdown",
   "metadata": {},
   "source": [
    "Now that the essential functions, `fd` and `ld`, have been defined, they can be applied to the given data files."
   ]
  },
  {
   "cell_type": "markdown",
   "metadata": {},
   "source": [
    "## Part 1"
   ]
  },
  {
   "cell_type": "markdown",
   "metadata": {},
   "source": [
    "This part of the report will include the addition of functions that will also be used throughout this part as data from various sources are imported. The functions, `apply_fd`,`apply_ld`,`countfd`,`countld`, and `plotdigits`, will be used and applied to each source as it will adapt for any of the sources given. Once these functions have been successfuly computed in relation to the specific source, then the first and last digits of the data can be analyzed for any patterns that may or may not appear. "
   ]
  },
  {
   "cell_type": "code",
   "execution_count": 7,
   "metadata": {},
   "outputs": [],
   "source": [
    "#Necessary imports used throughout the project\n",
    "import pandas as pd\n",
    "import numpy as np\n",
    "import matplotlib.pyplot as plt"
   ]
  },
  {
   "cell_type": "code",
   "execution_count": 8,
   "metadata": {},
   "outputs": [],
   "source": [
    "def apply_fd(file, column): #Defines the application of the first digit\n",
    "    return file[column].apply(fd) "
   ]
  },
  {
   "cell_type": "markdown",
   "metadata": {},
   "source": [
    "This definition takes any file and any numerical column within that file and applies the first digit function defined previously."
   ]
  },
  {
   "cell_type": "code",
   "execution_count": 9,
   "metadata": {},
   "outputs": [],
   "source": [
    "def apply_ld(file, column): #Defines the application of the last digit\n",
    "    return file[column].apply(ld)"
   ]
  },
  {
   "cell_type": "markdown",
   "metadata": {},
   "source": [
    "This definition takes any file and any numerical column within that file and applies the last digit function defined previously."
   ]
  },
  {
   "cell_type": "code",
   "execution_count": 10,
   "metadata": {},
   "outputs": [],
   "source": [
    "def countfd(n,k):\n",
    "    return apply_fd(n,k).value_counts()"
   ]
  },
  {
   "cell_type": "markdown",
   "metadata": {},
   "source": [
    "This definition takes the first digits found within a column of any given data source and applies the `value_counts()` function that will count the amount of times that first digit appears in the column."
   ]
  },
  {
   "cell_type": "code",
   "execution_count": 11,
   "metadata": {},
   "outputs": [],
   "source": [
    "def countld(n,k):\n",
    "    return apply_ld(n,k).value_counts()"
   ]
  },
  {
   "cell_type": "markdown",
   "metadata": {},
   "source": [
    "This definition takes the last digits found within a column of any given data source and applies the `value_counts()` function that will count the amount of times that last digit appears in the column."
   ]
  },
  {
   "cell_type": "code",
   "execution_count": 12,
   "metadata": {},
   "outputs": [],
   "source": [
    "def plotdigits(n,k): #Defines the plot that will be generated to show the first and last digits within the column.\n",
    "    #application of the first and last digit counts derived from the source that will be applied to the graph.\n",
    "    x=countfd(n,k) \n",
    "    y=countld(n,k) \n",
    "    plt.figure(figsize=(15,10))\n",
    "    plt.subplots_adjust (wspace=0.5,hspace=0.5)\n",
    "    \n",
    "    plt.subplot(2,2,1)\n",
    "    if x.index[-1]=='0':\n",
    "        plt.bar(x.index[:-1],x.values[:-1])\n",
    "        plt.xlabel('Number', fontsize=12)\n",
    "        plt.ylabel('Frequency', fontsize=12)\n",
    "    else:\n",
    "        plt.bar(x.index[:],x.values[:])\n",
    "        plt.title('First Digit Frequency in '+ k, fontsize=15)\n",
    "        plt.xlabel('Number', fontsize=12)\n",
    "        plt.ylabel('Frequency', fontsize=12)\n",
    "    \n",
    "    plt.subplot(2,2,2)\n",
    "    if y.index[-1]=='0':\n",
    "        plt.bar(y.index[:-1],y.values[:-1])\n",
    "        plt.xlabel('Number', fontsize=12)\n",
    "        plt.ylabel('Frequency', fontsize=12)\n",
    "    else:\n",
    "        plt.bar(y.index[:],y.values[:])\n",
    "        plt.title('Last Digit Frequency in '+ k, fontsize=15)\n",
    "        plt.xlabel('Number', fontsize=12)\n",
    "        plt.ylabel('Frequency', fontsize=12)\n",
    "\n",
    "    plt.suptitle('Digit Frequency Within Data', fontsize=20)\n",
    "    plt.show()"
   ]
  },
  {
   "cell_type": "markdown",
   "metadata": {},
   "source": [
    "This defintion will plot the count of first and last digits appearing in a source as bar graphs on a subplot. "
   ]
  },
  {
   "cell_type": "markdown",
   "metadata": {},
   "source": [
    "### New York Stock Exchange"
   ]
  },
  {
   "cell_type": "markdown",
   "metadata": {},
   "source": [
    "This includes the analysis of the first and last digits of the `52 Wk High`, `52 Wk Low`, and `Volume` columns within the data derived from the New York Stock Exchange."
   ]
  },
  {
   "cell_type": "code",
   "execution_count": 13,
   "metadata": {
    "scrolled": true
   },
   "outputs": [
    {
     "data": {
      "text/html": [
       "<div>\n",
       "<style scoped>\n",
       "    .dataframe tbody tr th:only-of-type {\n",
       "        vertical-align: middle;\n",
       "    }\n",
       "\n",
       "    .dataframe tbody tr th {\n",
       "        vertical-align: top;\n",
       "    }\n",
       "\n",
       "    .dataframe thead th {\n",
       "        text-align: right;\n",
       "    }\n",
       "</style>\n",
       "<table border=\"1\" class=\"dataframe\">\n",
       "  <thead>\n",
       "    <tr style=\"text-align: right;\">\n",
       "      <th></th>\n",
       "      <th>Name</th>\n",
       "      <th>Symbol</th>\n",
       "      <th>Open</th>\n",
       "      <th>High</th>\n",
       "      <th>Low</th>\n",
       "      <th>Close</th>\n",
       "      <th>Net Chg</th>\n",
       "      <th>% Chg</th>\n",
       "      <th>Volume</th>\n",
       "      <th>52 Wk High</th>\n",
       "      <th>52 Wk Low</th>\n",
       "      <th>YTD % Chg</th>\n",
       "    </tr>\n",
       "  </thead>\n",
       "  <tbody>\n",
       "    <tr>\n",
       "      <th>0</th>\n",
       "      <td>3D Systems</td>\n",
       "      <td>DDD</td>\n",
       "      <td>14.14</td>\n",
       "      <td>14.81</td>\n",
       "      <td>13.60</td>\n",
       "      <td>14.76</td>\n",
       "      <td>0.32</td>\n",
       "      <td>2.22</td>\n",
       "      <td>3240444</td>\n",
       "      <td>32.88</td>\n",
       "      <td>6.00</td>\n",
       "      <td>69.85</td>\n",
       "    </tr>\n",
       "    <tr>\n",
       "      <th>1</th>\n",
       "      <td>3M</td>\n",
       "      <td>MMM</td>\n",
       "      <td>163.68</td>\n",
       "      <td>164.54</td>\n",
       "      <td>163.05</td>\n",
       "      <td>164.46</td>\n",
       "      <td>0.19</td>\n",
       "      <td>0.12</td>\n",
       "      <td>1730167</td>\n",
       "      <td>167.70</td>\n",
       "      <td>134.00</td>\n",
       "      <td>9.17</td>\n",
       "    </tr>\n",
       "    <tr>\n",
       "      <th>2</th>\n",
       "      <td>58.com ADR</td>\n",
       "      <td>WUBA</td>\n",
       "      <td>56.25</td>\n",
       "      <td>56.76</td>\n",
       "      <td>55.28</td>\n",
       "      <td>56.48</td>\n",
       "      <td>-0.04</td>\n",
       "      <td>-0.07</td>\n",
       "      <td>518280</td>\n",
       "      <td>83.71</td>\n",
       "      <td>37.72</td>\n",
       "      <td>-14.37</td>\n",
       "    </tr>\n",
       "    <tr>\n",
       "      <th>3</th>\n",
       "      <td>500.com ADR</td>\n",
       "      <td>WBAI</td>\n",
       "      <td>16.46</td>\n",
       "      <td>17.18</td>\n",
       "      <td>16.04</td>\n",
       "      <td>16.88</td>\n",
       "      <td>0.26</td>\n",
       "      <td>1.56</td>\n",
       "      <td>378620</td>\n",
       "      <td>30.67</td>\n",
       "      <td>9.89</td>\n",
       "      <td>-16.02</td>\n",
       "    </tr>\n",
       "    <tr>\n",
       "      <th>4</th>\n",
       "      <td>A10 Networks</td>\n",
       "      <td>ATEN</td>\n",
       "      <td>5.85</td>\n",
       "      <td>5.91</td>\n",
       "      <td>5.77</td>\n",
       "      <td>5.87</td>\n",
       "      <td>-0.03</td>\n",
       "      <td>-0.51</td>\n",
       "      <td>126272</td>\n",
       "      <td>8.30</td>\n",
       "      <td>4.12</td>\n",
       "      <td>-10.52</td>\n",
       "    </tr>\n",
       "    <tr>\n",
       "      <th>5</th>\n",
       "      <td>AAC Holdings</td>\n",
       "      <td>AAC</td>\n",
       "      <td>18.18</td>\n",
       "      <td>18.48</td>\n",
       "      <td>17.99</td>\n",
       "      <td>18.38</td>\n",
       "      <td>0.17</td>\n",
       "      <td>0.93</td>\n",
       "      <td>123794</td>\n",
       "      <td>46.60</td>\n",
       "      <td>14.36</td>\n",
       "      <td>-3.57</td>\n",
       "    </tr>\n",
       "    <tr>\n",
       "      <th>6</th>\n",
       "      <td>AAR Corp.</td>\n",
       "      <td>AIR</td>\n",
       "      <td>22.82</td>\n",
       "      <td>22.83</td>\n",
       "      <td>21.45</td>\n",
       "      <td>22.80</td>\n",
       "      <td>-0.23</td>\n",
       "      <td>-1.00</td>\n",
       "      <td>463662</td>\n",
       "      <td>34.24</td>\n",
       "      <td>18.36</td>\n",
       "      <td>-13.28</td>\n",
       "    </tr>\n",
       "    <tr>\n",
       "      <th>7</th>\n",
       "      <td>Aaron's Inc.</td>\n",
       "      <td>AAN</td>\n",
       "      <td>23.76</td>\n",
       "      <td>23.88</td>\n",
       "      <td>23.37</td>\n",
       "      <td>23.87</td>\n",
       "      <td>-0.14</td>\n",
       "      <td>-0.58</td>\n",
       "      <td>240738</td>\n",
       "      <td>40.80</td>\n",
       "      <td>20.24</td>\n",
       "      <td>6.61</td>\n",
       "    </tr>\n",
       "    <tr>\n",
       "      <th>8</th>\n",
       "      <td>ABB ADR</td>\n",
       "      <td>ABB</td>\n",
       "      <td>18.80</td>\n",
       "      <td>18.94</td>\n",
       "      <td>18.78</td>\n",
       "      <td>18.93</td>\n",
       "      <td>-0.16</td>\n",
       "      <td>-0.84</td>\n",
       "      <td>1308716</td>\n",
       "      <td>23.66</td>\n",
       "      <td>15.74</td>\n",
       "      <td>6.77</td>\n",
       "    </tr>\n",
       "    <tr>\n",
       "      <th>9</th>\n",
       "      <td>Abbott Laboratories</td>\n",
       "      <td>ABT</td>\n",
       "      <td>40.64</td>\n",
       "      <td>40.90</td>\n",
       "      <td>40.36</td>\n",
       "      <td>40.75</td>\n",
       "      <td>-0.03</td>\n",
       "      <td>-0.07</td>\n",
       "      <td>4038030</td>\n",
       "      <td>51.74</td>\n",
       "      <td>36.00</td>\n",
       "      <td>-9.26</td>\n",
       "    </tr>\n",
       "  </tbody>\n",
       "</table>\n",
       "</div>"
      ],
      "text/plain": [
       "                  Name Symbol    Open    High     Low   Close  Net Chg  % Chg  \\\n",
       "0           3D Systems    DDD   14.14   14.81   13.60   14.76     0.32   2.22   \n",
       "1                   3M    MMM  163.68  164.54  163.05  164.46     0.19   0.12   \n",
       "2           58.com ADR   WUBA   56.25   56.76   55.28   56.48    -0.04  -0.07   \n",
       "3          500.com ADR   WBAI   16.46   17.18   16.04   16.88     0.26   1.56   \n",
       "4         A10 Networks   ATEN    5.85    5.91    5.77    5.87    -0.03  -0.51   \n",
       "5         AAC Holdings    AAC   18.18   18.48   17.99   18.38     0.17   0.93   \n",
       "6            AAR Corp.    AIR   22.82   22.83   21.45   22.80    -0.23  -1.00   \n",
       "7         Aaron's Inc.    AAN   23.76   23.88   23.37   23.87    -0.14  -0.58   \n",
       "8              ABB ADR    ABB   18.80   18.94   18.78   18.93    -0.16  -0.84   \n",
       "9  Abbott Laboratories    ABT   40.64   40.90   40.36   40.75    -0.03  -0.07   \n",
       "\n",
       "    Volume  52 Wk High  52 Wk Low  YTD % Chg  \n",
       "0  3240444       32.88       6.00      69.85  \n",
       "1  1730167      167.70     134.00       9.17  \n",
       "2   518280       83.71      37.72     -14.37  \n",
       "3   378620       30.67       9.89     -16.02  \n",
       "4   126272        8.30       4.12     -10.52  \n",
       "5   123794       46.60      14.36      -3.57  \n",
       "6   463662       34.24      18.36     -13.28  \n",
       "7   240738       40.80      20.24       6.61  \n",
       "8  1308716       23.66      15.74       6.77  \n",
       "9  4038030       51.74      36.00      -9.26  "
      ]
     },
     "metadata": {},
     "output_type": "display_data"
    }
   ],
   "source": [
    "#Uploading the necessary data file to be used\n",
    "nyse=pd.read_csv('NYSE_2016_03_25.csv' #file name\n",
    "                ,delimiter=',' #character separating columns\n",
    "                ,skiprows=3 #how many rows need to be skipped to give relevant data\n",
    "                ,header=0\n",
    "                ,encoding='latin1'\n",
    "                ,low_memory=False)\n",
    "display(nyse[:10])"
   ]
  },
  {
   "cell_type": "markdown",
   "metadata": {},
   "source": [
    "This is the file that contains the data that will be used for this part of the report."
   ]
  },
  {
   "cell_type": "code",
   "execution_count": 14,
   "metadata": {
    "scrolled": false
   },
   "outputs": [
    {
     "data": {
      "image/png": "[encoded data removed]",
      "text/plain": [
       "<Figure size 1080x720 with 2 Axes>"
      ]
     },
     "metadata": {
      "needs_background": "light"
     },
     "output_type": "display_data"
    }
   ],
   "source": [
    "plotdigits(nyse,'52 Wk High') #application of the function derived previously in relation to the NYSE data source."
   ]
  },
  {
   "cell_type": "markdown",
   "metadata": {},
   "source": [
    "This subplot depicts the frequency of the first and last digits found in the 52 Week High column of the data, with the most common first digit being 1 and the least common first digit being 9, and with the most common last digit being 5 and the least common last digit being 2."
   ]
  },
  {
   "cell_type": "code",
   "execution_count": 15,
   "metadata": {
    "scrolled": true
   },
   "outputs": [
    {
     "data": {
      "image/png": "[encoded data removed]",
      "text/plain": [
       "<Figure size 1080x720 with 2 Axes>"
      ]
     },
     "metadata": {
      "needs_background": "light"
     },
     "output_type": "display_data"
    }
   ],
   "source": [
    "plotdigits(nyse,'52 Wk Low') #application of the function derived previously in relation to the NYSE data source."
   ]
  },
  {
   "cell_type": "markdown",
   "metadata": {},
   "source": [
    "This subplot depicts the frequency of the first and last digits found in the 52 Week Low column of the data, with the most common first digit being 1 and the least common first digit being 9, and with the most common last digit being 5 and the least common last digit being 7."
   ]
  },
  {
   "cell_type": "code",
   "execution_count": 16,
   "metadata": {
    "scrolled": true
   },
   "outputs": [
    {
     "data": {
      "image/png": "[encoded data removed]",
      "text/plain": [
       "<Figure size 1080x720 with 2 Axes>"
      ]
     },
     "metadata": {
      "needs_background": "light"
     },
     "output_type": "display_data"
    }
   ],
   "source": [
    "plotdigits(nyse,'Volume') #application of the function derived previously in relation to the NYSE data source."
   ]
  },
  {
   "cell_type": "markdown",
   "metadata": {},
   "source": [
    "This subplot depicts the frequency of the first and last digits found in the Volume column of the data, with the most common first digit being 1 and the least common first digit being 9, and with the most common last digit being 7 and the least common last digit being 1."
   ]
  },
  {
   "cell_type": "markdown",
   "metadata": {},
   "source": [
    "For the analysis of the New York Stock Exchange, it seems as though the most common first digit to be found throughout all three graphs was 1, and the least common digit found throughout the graphs was 9. This is consistent with *Benford's Law* in that the leading significant digit is small, and in this case it is 1, while 9 is the leading digit with the least amount of significance. The last digits derived from the data, however, do not seem to correlate in any way, since the numbers 5 and 7 seem to be the most common digits found."
   ]
  },
  {
   "cell_type": "markdown",
   "metadata": {},
   "source": [
    "### Capital Distances"
   ]
  },
  {
   "cell_type": "markdown",
   "metadata": {},
   "source": [
    "This includes the analysis of the first and last digits of the `distance` column within the data derived from the distances between two countries in the world."
   ]
  },
  {
   "cell_type": "code",
   "execution_count": 17,
   "metadata": {
    "scrolled": false
   },
   "outputs": [
    {
     "data": {
      "text/html": [
       "<div>\n",
       "<style scoped>\n",
       "    .dataframe tbody tr th:only-of-type {\n",
       "        vertical-align: middle;\n",
       "    }\n",
       "\n",
       "    .dataframe tbody tr th {\n",
       "        vertical-align: top;\n",
       "    }\n",
       "\n",
       "    .dataframe thead th {\n",
       "        text-align: right;\n",
       "    }\n",
       "</style>\n",
       "<table border=\"1\" class=\"dataframe\">\n",
       "  <thead>\n",
       "    <tr style=\"text-align: right;\">\n",
       "      <th></th>\n",
       "      <th>c1</th>\n",
       "      <th>c2</th>\n",
       "      <th>distance</th>\n",
       "      <th>country 1</th>\n",
       "      <th>country 2</th>\n",
       "    </tr>\n",
       "  </thead>\n",
       "  <tbody>\n",
       "    <tr>\n",
       "      <th>0</th>\n",
       "      <td>1</td>\n",
       "      <td>2</td>\n",
       "      <td>6405.558</td>\n",
       "      <td>USA</td>\n",
       "      <td>Germany</td>\n",
       "    </tr>\n",
       "    <tr>\n",
       "      <th>1</th>\n",
       "      <td>1</td>\n",
       "      <td>3</td>\n",
       "      <td>10910.268</td>\n",
       "      <td>USA</td>\n",
       "      <td>Japan</td>\n",
       "    </tr>\n",
       "    <tr>\n",
       "      <th>2</th>\n",
       "      <td>1</td>\n",
       "      <td>4</td>\n",
       "      <td>5904.034</td>\n",
       "      <td>USA</td>\n",
       "      <td>United.Kingdom</td>\n",
       "    </tr>\n",
       "    <tr>\n",
       "      <th>3</th>\n",
       "      <td>1</td>\n",
       "      <td>5</td>\n",
       "      <td>6168.601</td>\n",
       "      <td>USA</td>\n",
       "      <td>France</td>\n",
       "    </tr>\n",
       "    <tr>\n",
       "      <th>4</th>\n",
       "      <td>1</td>\n",
       "      <td>6</td>\n",
       "      <td>7222.464</td>\n",
       "      <td>USA</td>\n",
       "      <td>Italy</td>\n",
       "    </tr>\n",
       "    <tr>\n",
       "      <th>5</th>\n",
       "      <td>1</td>\n",
       "      <td>7</td>\n",
       "      <td>733.894</td>\n",
       "      <td>USA</td>\n",
       "      <td>Canada</td>\n",
       "    </tr>\n",
       "    <tr>\n",
       "      <th>6</th>\n",
       "      <td>1</td>\n",
       "      <td>8</td>\n",
       "      <td>11154.311</td>\n",
       "      <td>USA</td>\n",
       "      <td>China</td>\n",
       "    </tr>\n",
       "    <tr>\n",
       "      <th>7</th>\n",
       "      <td>1</td>\n",
       "      <td>9</td>\n",
       "      <td>6197.566</td>\n",
       "      <td>USA</td>\n",
       "      <td>Netherlands</td>\n",
       "    </tr>\n",
       "    <tr>\n",
       "      <th>8</th>\n",
       "      <td>1</td>\n",
       "      <td>10</td>\n",
       "      <td>13128.552</td>\n",
       "      <td>USA</td>\n",
       "      <td>Hong.Kong</td>\n",
       "    </tr>\n",
       "    <tr>\n",
       "      <th>9</th>\n",
       "      <td>1</td>\n",
       "      <td>11</td>\n",
       "      <td>6221.288</td>\n",
       "      <td>USA</td>\n",
       "      <td>Belgium-Lux</td>\n",
       "    </tr>\n",
       "  </tbody>\n",
       "</table>\n",
       "</div>"
      ],
      "text/plain": [
       "   c1  c2   distance country 1       country 2\n",
       "0   1   2   6405.558       USA         Germany\n",
       "1   1   3  10910.268       USA           Japan\n",
       "2   1   4   5904.034       USA  United.Kingdom\n",
       "3   1   5   6168.601       USA          France\n",
       "4   1   6   7222.464       USA           Italy\n",
       "5   1   7    733.894       USA          Canada\n",
       "6   1   8  11154.311       USA           China\n",
       "7   1   9   6197.566       USA     Netherlands\n",
       "8   1  10  13128.552       USA       Hong.Kong\n",
       "9   1  11   6221.288       USA     Belgium-Lux"
      ]
     },
     "metadata": {},
     "output_type": "display_data"
    }
   ],
   "source": [
    "#Uploading the necessary data file to be used\n",
    "distances=pd.read_csv('capital_distances.txt' #uploading the text file\n",
    "                  ,delimiter=' ' #character separating columns\n",
    "                  ,skiprows=12 #how many rows need to be skipped to give relevant data\n",
    "                  ,header=None\n",
    "                  ,names=['c1','c2','distance','country 1','country 2'] #adds a title \n",
    "                  ,encoding='latin1'\n",
    "                  ,low_memory=False)\n",
    "display(distances[:10])"
   ]
  },
  {
   "cell_type": "markdown",
   "metadata": {},
   "source": [
    "This is the file that contains the data that will be used for this part of the report."
   ]
  },
  {
   "cell_type": "code",
   "execution_count": 18,
   "metadata": {
    "scrolled": true
   },
   "outputs": [
    {
     "data": {
      "image/png": "[encoded data removed]",
      "text/plain": [
       "<Figure size 1080x720 with 2 Axes>"
      ]
     },
     "metadata": {
      "needs_background": "light"
     },
     "output_type": "display_data"
    }
   ],
   "source": [
    "plotdigits(distances,'distance') #application of the function derived previously in relation to the capital distances data source."
   ]
  },
  {
   "cell_type": "markdown",
   "metadata": {},
   "source": [
    "This subplot depicts the frequency of the first and last digits found in the `Distance` column of the data, with the most common first digit being 1 and the least common first digit being 2, and with the most common last digit being 1 and the least common last digit being 4."
   ]
  },
  {
   "cell_type": "markdown",
   "metadata": {},
   "source": [
    "For the analysis of the distances between various countries *Benford's Law* seems to remain to be consistent with the data, showing that the small number 1 is the leading most significant digit found in the data consisting of both the first and last digits. However, larger numbers seem to be runner-up for most significant first or last digit in the data."
   ]
  },
  {
   "cell_type": "markdown",
   "metadata": {},
   "source": [
    "### Country Populations"
   ]
  },
  {
   "cell_type": "markdown",
   "metadata": {},
   "source": [
    "This includes the analysis of the first and last digits of the `1960`,`1980`, and `2000` columns within the data derived from the populations of different countries throughout various years."
   ]
  },
  {
   "cell_type": "code",
   "execution_count": 19,
   "metadata": {
    "scrolled": false
   },
   "outputs": [
    {
     "data": {
      "text/html": [
       "<div>\n",
       "<style scoped>\n",
       "    .dataframe tbody tr th:only-of-type {\n",
       "        vertical-align: middle;\n",
       "    }\n",
       "\n",
       "    .dataframe tbody tr th {\n",
       "        vertical-align: top;\n",
       "    }\n",
       "\n",
       "    .dataframe thead th {\n",
       "        text-align: right;\n",
       "    }\n",
       "</style>\n",
       "<table border=\"1\" class=\"dataframe\">\n",
       "  <thead>\n",
       "    <tr style=\"text-align: right;\">\n",
       "      <th></th>\n",
       "      <th>Country Name</th>\n",
       "      <th>Country Code</th>\n",
       "      <th>1960</th>\n",
       "      <th>1961</th>\n",
       "      <th>1962</th>\n",
       "      <th>1963</th>\n",
       "      <th>1964</th>\n",
       "      <th>1965</th>\n",
       "      <th>1966</th>\n",
       "      <th>1967</th>\n",
       "      <th>...</th>\n",
       "      <th>2005</th>\n",
       "      <th>2006</th>\n",
       "      <th>2007</th>\n",
       "      <th>2008</th>\n",
       "      <th>2009</th>\n",
       "      <th>2010</th>\n",
       "      <th>2011</th>\n",
       "      <th>2012</th>\n",
       "      <th>2013</th>\n",
       "      <th>2014</th>\n",
       "    </tr>\n",
       "  </thead>\n",
       "  <tbody>\n",
       "    <tr>\n",
       "      <th>0</th>\n",
       "      <td>Afghanistan</td>\n",
       "      <td>AFG</td>\n",
       "      <td>8994793.0</td>\n",
       "      <td>9164945.0</td>\n",
       "      <td>9343772.0</td>\n",
       "      <td>9531555.0</td>\n",
       "      <td>9728645.0</td>\n",
       "      <td>9935358.0</td>\n",
       "      <td>10148841.0</td>\n",
       "      <td>10368600.0</td>\n",
       "      <td>...</td>\n",
       "      <td>24399948</td>\n",
       "      <td>25183615</td>\n",
       "      <td>25877544</td>\n",
       "      <td>26528741</td>\n",
       "      <td>27207291</td>\n",
       "      <td>27962207</td>\n",
       "      <td>28809167</td>\n",
       "      <td>29726803</td>\n",
       "      <td>30682500</td>\n",
       "      <td>31627506</td>\n",
       "    </tr>\n",
       "    <tr>\n",
       "      <th>1</th>\n",
       "      <td>Albania</td>\n",
       "      <td>ALB</td>\n",
       "      <td>1608800.0</td>\n",
       "      <td>1659800.0</td>\n",
       "      <td>1711319.0</td>\n",
       "      <td>1762621.0</td>\n",
       "      <td>1814135.0</td>\n",
       "      <td>1864791.0</td>\n",
       "      <td>1914573.0</td>\n",
       "      <td>1965598.0</td>\n",
       "      <td>...</td>\n",
       "      <td>3011487</td>\n",
       "      <td>2992547</td>\n",
       "      <td>2970017</td>\n",
       "      <td>2947314</td>\n",
       "      <td>2927519</td>\n",
       "      <td>2913021</td>\n",
       "      <td>2904780</td>\n",
       "      <td>2900489</td>\n",
       "      <td>2897366</td>\n",
       "      <td>2894475</td>\n",
       "    </tr>\n",
       "    <tr>\n",
       "      <th>2</th>\n",
       "      <td>Algeria</td>\n",
       "      <td>DZA</td>\n",
       "      <td>11124892.0</td>\n",
       "      <td>11404859.0</td>\n",
       "      <td>11690152.0</td>\n",
       "      <td>11985130.0</td>\n",
       "      <td>12295973.0</td>\n",
       "      <td>12626953.0</td>\n",
       "      <td>12980269.0</td>\n",
       "      <td>13354197.0</td>\n",
       "      <td>...</td>\n",
       "      <td>33267887</td>\n",
       "      <td>33749328</td>\n",
       "      <td>34261971</td>\n",
       "      <td>34811059</td>\n",
       "      <td>35401790</td>\n",
       "      <td>36036159</td>\n",
       "      <td>36717132</td>\n",
       "      <td>37439427</td>\n",
       "      <td>38186135</td>\n",
       "      <td>38934334</td>\n",
       "    </tr>\n",
       "    <tr>\n",
       "      <th>3</th>\n",
       "      <td>American Samoa</td>\n",
       "      <td>ASM</td>\n",
       "      <td>20012.0</td>\n",
       "      <td>20478.0</td>\n",
       "      <td>21118.0</td>\n",
       "      <td>21883.0</td>\n",
       "      <td>22701.0</td>\n",
       "      <td>23518.0</td>\n",
       "      <td>24320.0</td>\n",
       "      <td>25116.0</td>\n",
       "      <td>...</td>\n",
       "      <td>59117</td>\n",
       "      <td>58648</td>\n",
       "      <td>57904</td>\n",
       "      <td>57031</td>\n",
       "      <td>56226</td>\n",
       "      <td>55636</td>\n",
       "      <td>55316</td>\n",
       "      <td>55227</td>\n",
       "      <td>55302</td>\n",
       "      <td>55434</td>\n",
       "    </tr>\n",
       "    <tr>\n",
       "      <th>4</th>\n",
       "      <td>Andorra</td>\n",
       "      <td>AND</td>\n",
       "      <td>13414.0</td>\n",
       "      <td>14376.0</td>\n",
       "      <td>15376.0</td>\n",
       "      <td>16410.0</td>\n",
       "      <td>17470.0</td>\n",
       "      <td>18551.0</td>\n",
       "      <td>19646.0</td>\n",
       "      <td>20755.0</td>\n",
       "      <td>...</td>\n",
       "      <td>81223</td>\n",
       "      <td>83373</td>\n",
       "      <td>84878</td>\n",
       "      <td>85616</td>\n",
       "      <td>85474</td>\n",
       "      <td>84419</td>\n",
       "      <td>82326</td>\n",
       "      <td>79316</td>\n",
       "      <td>75902</td>\n",
       "      <td>72786</td>\n",
       "    </tr>\n",
       "    <tr>\n",
       "      <th>5</th>\n",
       "      <td>Angola</td>\n",
       "      <td>AGO</td>\n",
       "      <td>5270844.0</td>\n",
       "      <td>5367287.0</td>\n",
       "      <td>5465905.0</td>\n",
       "      <td>5565808.0</td>\n",
       "      <td>5665701.0</td>\n",
       "      <td>5765025.0</td>\n",
       "      <td>5863568.0</td>\n",
       "      <td>5962831.0</td>\n",
       "      <td>...</td>\n",
       "      <td>17912942</td>\n",
       "      <td>18541467</td>\n",
       "      <td>19183907</td>\n",
       "      <td>19842251</td>\n",
       "      <td>20520103</td>\n",
       "      <td>21219954</td>\n",
       "      <td>21942296</td>\n",
       "      <td>22685632</td>\n",
       "      <td>23448202</td>\n",
       "      <td>24227524</td>\n",
       "    </tr>\n",
       "    <tr>\n",
       "      <th>6</th>\n",
       "      <td>Antigua and Barbuda</td>\n",
       "      <td>ATG</td>\n",
       "      <td>54681.0</td>\n",
       "      <td>55403.0</td>\n",
       "      <td>56311.0</td>\n",
       "      <td>57368.0</td>\n",
       "      <td>58500.0</td>\n",
       "      <td>59653.0</td>\n",
       "      <td>60818.0</td>\n",
       "      <td>62002.0</td>\n",
       "      <td>...</td>\n",
       "      <td>82565</td>\n",
       "      <td>83467</td>\n",
       "      <td>84397</td>\n",
       "      <td>85350</td>\n",
       "      <td>86300</td>\n",
       "      <td>87233</td>\n",
       "      <td>88152</td>\n",
       "      <td>89069</td>\n",
       "      <td>89985</td>\n",
       "      <td>90900</td>\n",
       "    </tr>\n",
       "    <tr>\n",
       "      <th>7</th>\n",
       "      <td>Argentina</td>\n",
       "      <td>ARG</td>\n",
       "      <td>20619075.0</td>\n",
       "      <td>20953079.0</td>\n",
       "      <td>21287682.0</td>\n",
       "      <td>21621845.0</td>\n",
       "      <td>21953926.0</td>\n",
       "      <td>22283389.0</td>\n",
       "      <td>22608747.0</td>\n",
       "      <td>22932201.0</td>\n",
       "      <td>...</td>\n",
       "      <td>39145491</td>\n",
       "      <td>39558750</td>\n",
       "      <td>39969903</td>\n",
       "      <td>40381860</td>\n",
       "      <td>40798641</td>\n",
       "      <td>41222875</td>\n",
       "      <td>41655616</td>\n",
       "      <td>42095224</td>\n",
       "      <td>42538304</td>\n",
       "      <td>42980026</td>\n",
       "    </tr>\n",
       "    <tr>\n",
       "      <th>8</th>\n",
       "      <td>Armenia</td>\n",
       "      <td>ARM</td>\n",
       "      <td>1867396.0</td>\n",
       "      <td>1934239.0</td>\n",
       "      <td>2002170.0</td>\n",
       "      <td>2070427.0</td>\n",
       "      <td>2138133.0</td>\n",
       "      <td>2204650.0</td>\n",
       "      <td>2269475.0</td>\n",
       "      <td>2332624.0</td>\n",
       "      <td>...</td>\n",
       "      <td>3014917</td>\n",
       "      <td>3002161</td>\n",
       "      <td>2988117</td>\n",
       "      <td>2975029</td>\n",
       "      <td>2966108</td>\n",
       "      <td>2963496</td>\n",
       "      <td>2967984</td>\n",
       "      <td>2978339</td>\n",
       "      <td>2992192</td>\n",
       "      <td>3006154</td>\n",
       "    </tr>\n",
       "    <tr>\n",
       "      <th>9</th>\n",
       "      <td>Aruba</td>\n",
       "      <td>ABW</td>\n",
       "      <td>54208.0</td>\n",
       "      <td>55435.0</td>\n",
       "      <td>56226.0</td>\n",
       "      <td>56697.0</td>\n",
       "      <td>57029.0</td>\n",
       "      <td>57360.0</td>\n",
       "      <td>57712.0</td>\n",
       "      <td>58049.0</td>\n",
       "      <td>...</td>\n",
       "      <td>100031</td>\n",
       "      <td>100830</td>\n",
       "      <td>101218</td>\n",
       "      <td>101342</td>\n",
       "      <td>101416</td>\n",
       "      <td>101597</td>\n",
       "      <td>101936</td>\n",
       "      <td>102393</td>\n",
       "      <td>102921</td>\n",
       "      <td>103441</td>\n",
       "    </tr>\n",
       "  </tbody>\n",
       "</table>\n",
       "<p>10 rows × 57 columns</p>\n",
       "</div>"
      ],
      "text/plain": [
       "          Country Name Country Code        1960        1961        1962  \\\n",
       "0          Afghanistan          AFG   8994793.0   9164945.0   9343772.0   \n",
       "1              Albania          ALB   1608800.0   1659800.0   1711319.0   \n",
       "2              Algeria          DZA  11124892.0  11404859.0  11690152.0   \n",
       "3       American Samoa          ASM     20012.0     20478.0     21118.0   \n",
       "4              Andorra          AND     13414.0     14376.0     15376.0   \n",
       "5               Angola          AGO   5270844.0   5367287.0   5465905.0   \n",
       "6  Antigua and Barbuda          ATG     54681.0     55403.0     56311.0   \n",
       "7            Argentina          ARG  20619075.0  20953079.0  21287682.0   \n",
       "8              Armenia          ARM   1867396.0   1934239.0   2002170.0   \n",
       "9                Aruba          ABW     54208.0     55435.0     56226.0   \n",
       "\n",
       "         1963        1964        1965        1966        1967  ...      2005  \\\n",
       "0   9531555.0   9728645.0   9935358.0  10148841.0  10368600.0  ...  24399948   \n",
       "1   1762621.0   1814135.0   1864791.0   1914573.0   1965598.0  ...   3011487   \n",
       "2  11985130.0  12295973.0  12626953.0  12980269.0  13354197.0  ...  33267887   \n",
       "3     21883.0     22701.0     23518.0     24320.0     25116.0  ...     59117   \n",
       "4     16410.0     17470.0     18551.0     19646.0     20755.0  ...     81223   \n",
       "5   5565808.0   5665701.0   5765025.0   5863568.0   5962831.0  ...  17912942   \n",
       "6     57368.0     58500.0     59653.0     60818.0     62002.0  ...     82565   \n",
       "7  21621845.0  21953926.0  22283389.0  22608747.0  22932201.0  ...  39145491   \n",
       "8   2070427.0   2138133.0   2204650.0   2269475.0   2332624.0  ...   3014917   \n",
       "9     56697.0     57029.0     57360.0     57712.0     58049.0  ...    100031   \n",
       "\n",
       "       2006      2007      2008      2009      2010      2011      2012  \\\n",
       "0  25183615  25877544  26528741  27207291  27962207  28809167  29726803   \n",
       "1   2992547   2970017   2947314   2927519   2913021   2904780   2900489   \n",
       "2  33749328  34261971  34811059  35401790  36036159  36717132  37439427   \n",
       "3     58648     57904     57031     56226     55636     55316     55227   \n",
       "4     83373     84878     85616     85474     84419     82326     79316   \n",
       "5  18541467  19183907  19842251  20520103  21219954  21942296  22685632   \n",
       "6     83467     84397     85350     86300     87233     88152     89069   \n",
       "7  39558750  39969903  40381860  40798641  41222875  41655616  42095224   \n",
       "8   3002161   2988117   2975029   2966108   2963496   2967984   2978339   \n",
       "9    100830    101218    101342    101416    101597    101936    102393   \n",
       "\n",
       "       2013      2014  \n",
       "0  30682500  31627506  \n",
       "1   2897366   2894475  \n",
       "2  38186135  38934334  \n",
       "3     55302     55434  \n",
       "4     75902     72786  \n",
       "5  23448202  24227524  \n",
       "6     89985     90900  \n",
       "7  42538304  42980026  \n",
       "8   2992192   3006154  \n",
       "9    102921    103441  \n",
       "\n",
       "[10 rows x 57 columns]"
      ]
     },
     "metadata": {},
     "output_type": "display_data"
    }
   ],
   "source": [
    "#Uploading the necessary data file to be used\n",
    "populations=pd.read_csv('country_populations.csv' #uploading the file for the country populations\n",
    "                  ,delimiter=','#character separating columns\n",
    "                  ,header=0\n",
    "                  ,encoding='latin1'\n",
    "                  ,low_memory=False)\n",
    "display(populations[:10])"
   ]
  },
  {
   "cell_type": "markdown",
   "metadata": {},
   "source": [
    "This is the file that contains the data that will be used for this part of the report."
   ]
  },
  {
   "cell_type": "code",
   "execution_count": 20,
   "metadata": {
    "scrolled": true
   },
   "outputs": [
    {
     "data": {
      "image/png": "[encoded data removed]",
      "text/plain": [
       "<Figure size 1080x720 with 2 Axes>"
      ]
     },
     "metadata": {
      "needs_background": "light"
     },
     "output_type": "display_data"
    }
   ],
   "source": [
    "plotdigits(populations,'1960') #application of the function derived previously in relation to the country pop. data source."
   ]
  },
  {
   "cell_type": "markdown",
   "metadata": {},
   "source": [
    "This subplot depicts the frequency of the first and last digits found in the year 1960 column of the data, with the most common first digit being 1 and the least common first digit being 6, and with the most common last digit being 4 and the least common last digit being 8."
   ]
  },
  {
   "cell_type": "code",
   "execution_count": 21,
   "metadata": {},
   "outputs": [
    {
     "data": {
      "image/png": "[encoded data removed]",
      "text/plain": [
       "<Figure size 1080x720 with 2 Axes>"
      ]
     },
     "metadata": {
      "needs_background": "light"
     },
     "output_type": "display_data"
    }
   ],
   "source": [
    "plotdigits(populations,'1980') #application of the function derived previously in relation to the country pop. data source."
   ]
  },
  {
   "cell_type": "markdown",
   "metadata": {},
   "source": [
    "This subplot depicts the frequency of the first and last digits found in the year 1980 column of the data, with the most common first digit being 1 and the least common first digit being 8, and with the most common last digit being 5 and the least common last digit being 3."
   ]
  },
  {
   "cell_type": "code",
   "execution_count": 22,
   "metadata": {},
   "outputs": [
    {
     "data": {
      "image/png": "[encoded data removed]",
      "text/plain": [
       "<Figure size 1080x720 with 2 Axes>"
      ]
     },
     "metadata": {
      "needs_background": "light"
     },
     "output_type": "display_data"
    }
   ],
   "source": [
    "plotdigits(populations,'2000') #application of the function derived previously in relation to the country pop. data source."
   ]
  },
  {
   "cell_type": "markdown",
   "metadata": {},
   "source": [
    "This subplot depicts the frequency of the first and last digits found in the year 2000 column of the data, with the most common first digit being 1 and the least common first digit being 9, and with the most common last digit being 8 and the least common last digit being 4."
   ]
  },
  {
   "cell_type": "markdown",
   "metadata": {},
   "source": [
    "For the analysis of the populations found within the countries worldwide throughout the three chosen years, it seems as though the most common first digit to be found throughout all three graphs was 1, and the least common digit found throughout the graphs was 9. This is consistent with *Benford's Law* in that the leading significant digit is small, and in this case it is 1, while 9 is the leading digit with the least amount of significance. Larger numbers continue to be less significant within the data. The last digits derived from the data, however, do not seem to correlate in any way, since the numbers 8,5, and 4 seem to be the most common last digits found."
   ]
  },
  {
   "cell_type": "markdown",
   "metadata": {},
   "source": [
    "### Country Areas"
   ]
  },
  {
   "cell_type": "markdown",
   "metadata": {},
   "source": [
    "This includes the analysis of the first and last digits of the `area (sq km)`, and `area (sq miles)` columns within the data derived from the areas of various countries."
   ]
  },
  {
   "cell_type": "code",
   "execution_count": 23,
   "metadata": {
    "scrolled": false
   },
   "outputs": [
    {
     "data": {
      "text/html": [
       "<div>\n",
       "<style scoped>\n",
       "    .dataframe tbody tr th:only-of-type {\n",
       "        vertical-align: middle;\n",
       "    }\n",
       "\n",
       "    .dataframe tbody tr th {\n",
       "        vertical-align: top;\n",
       "    }\n",
       "\n",
       "    .dataframe thead th {\n",
       "        text-align: right;\n",
       "    }\n",
       "</style>\n",
       "<table border=\"1\" class=\"dataframe\">\n",
       "  <thead>\n",
       "    <tr style=\"text-align: right;\">\n",
       "      <th></th>\n",
       "      <th>code</th>\n",
       "      <th>area (sq km)</th>\n",
       "      <th>area (sq miles)</th>\n",
       "    </tr>\n",
       "  </thead>\n",
       "  <tbody>\n",
       "    <tr>\n",
       "      <th>Country Name</th>\n",
       "      <td>Country Code</td>\n",
       "      <td>Area (sq km)</td>\n",
       "      <td>Area (sq miles)</td>\n",
       "    </tr>\n",
       "    <tr>\n",
       "      <th>Afghanistan</th>\n",
       "      <td>AFG</td>\n",
       "      <td>652860</td>\n",
       "      <td>252071</td>\n",
       "    </tr>\n",
       "    <tr>\n",
       "      <th>Albania</th>\n",
       "      <td>ALB</td>\n",
       "      <td>28750</td>\n",
       "      <td>11100</td>\n",
       "    </tr>\n",
       "    <tr>\n",
       "      <th>Algeria</th>\n",
       "      <td>DZA</td>\n",
       "      <td>2381740</td>\n",
       "      <td>919595</td>\n",
       "    </tr>\n",
       "    <tr>\n",
       "      <th>American Samoa</th>\n",
       "      <td>ASM</td>\n",
       "      <td>200</td>\n",
       "      <td>77</td>\n",
       "    </tr>\n",
       "    <tr>\n",
       "      <th>Andorra</th>\n",
       "      <td>AND</td>\n",
       "      <td>470</td>\n",
       "      <td>182</td>\n",
       "    </tr>\n",
       "    <tr>\n",
       "      <th>Angola</th>\n",
       "      <td>AGO</td>\n",
       "      <td>1246700</td>\n",
       "      <td>481353</td>\n",
       "    </tr>\n",
       "    <tr>\n",
       "      <th>Antigua and Barbuda</th>\n",
       "      <td>ATG</td>\n",
       "      <td>440</td>\n",
       "      <td>170</td>\n",
       "    </tr>\n",
       "    <tr>\n",
       "      <th>Argentina</th>\n",
       "      <td>ARG</td>\n",
       "      <td>2780400</td>\n",
       "      <td>1073518</td>\n",
       "    </tr>\n",
       "    <tr>\n",
       "      <th>Armenia</th>\n",
       "      <td>ARM</td>\n",
       "      <td>29740</td>\n",
       "      <td>11483</td>\n",
       "    </tr>\n",
       "  </tbody>\n",
       "</table>\n",
       "</div>"
      ],
      "text/plain": [
       "                             code  area (sq km)  area (sq miles)\n",
       "Country Name         Country Code  Area (sq km)  Area (sq miles)\n",
       "Afghanistan                   AFG        652860           252071\n",
       "Albania                       ALB         28750            11100\n",
       "Algeria                       DZA       2381740           919595\n",
       "American Samoa                ASM           200               77\n",
       "Andorra                       AND           470              182\n",
       "Angola                        AGO       1246700           481353\n",
       "Antigua and Barbuda           ATG           440              170\n",
       "Argentina                     ARG       2780400          1073518\n",
       "Armenia                       ARM         29740            11483"
      ]
     },
     "metadata": {},
     "output_type": "display_data"
    }
   ],
   "source": [
    "#Uploading the necessary data file to be used\n",
    "areas=pd.read_csv('country_areas.csv'\n",
    "                  ,delimiter=','\n",
    "                  ,header=0\n",
    "                  ,skiprows=1\n",
    "                  ,names=['code','area (sq km)','area (sq miles)']\n",
    "                  ,encoding='latin1'\n",
    "                  ,low_memory=False)\n",
    "display(areas[:10])"
   ]
  },
  {
   "cell_type": "markdown",
   "metadata": {},
   "source": [
    "This is the file that contains the data that will be used for this part of the report."
   ]
  },
  {
   "cell_type": "code",
   "execution_count": 24,
   "metadata": {},
   "outputs": [
    {
     "data": {
      "image/png": "[encoded data removed]",
      "text/plain": [
       "<Figure size 1080x720 with 2 Axes>"
      ]
     },
     "metadata": {
      "needs_background": "light"
     },
     "output_type": "display_data"
    }
   ],
   "source": [
    "plotdigits(areas,'area (sq km)') #application of the function derived previously in relation to the country areas data source."
   ]
  },
  {
   "cell_type": "markdown",
   "metadata": {},
   "source": [
    "This subplot depicts the frequency of the first and last digits found in the area in sq. km. column of the data, with the most common first digit being 1 and the least common first digit being 8, and with the most common last digit being 8 and the least common last digit being 4."
   ]
  },
  {
   "cell_type": "code",
   "execution_count": 25,
   "metadata": {
    "scrolled": true
   },
   "outputs": [
    {
     "data": {
      "image/png": "[encoded data removed]",
      "text/plain": [
       "<Figure size 1080x720 with 2 Axes>"
      ]
     },
     "metadata": {
      "needs_background": "light"
     },
     "output_type": "display_data"
    }
   ],
   "source": [
    "plotdigits(areas,'area (sq miles)') #application of the function derived previously in relation to the country areas data source."
   ]
  },
  {
   "cell_type": "markdown",
   "metadata": {},
   "source": [
    "This subplot depicts the frequency of the first and last digits found in the area in sq. km. column of the data, with the most common first digit being 1 and the least common first digit being 8, and with the most common last digit being 3 and the least common last digit being 8."
   ]
  },
  {
   "cell_type": "markdown",
   "metadata": {},
   "source": [
    "For the analysis of the areas of various countries in sq. km and sq. miles, it seems as though the most common first digit to be found throughout the graphs was 1, and the least common digit found throughout the graphs was 8. This is consistent with *Benford's Law* in that the leading significant digit is small, and in this case it is 1, while 8 is the leading digit with the least amount of significance. Larger numbers continue to be less significant within the data, although it is odd that the largest number, 9, is not the least significant digit. The last digits derived from the data, however, do not seem to correlate in any way, since the numbers 3 and 7 seem to be the most common last digits found."
   ]
  },
  {
   "cell_type": "markdown",
   "metadata": {},
   "source": [
    "## Part 2"
   ]
  },
  {
   "cell_type": "markdown",
   "metadata": {},
   "source": [
    "This part includes applying the  functions derived above into the given file containing text of all articles published by New York Times on June 1, 2010. The function `countnumber` will be used with to count the amount of times a digit appears in the text."
   ]
  },
  {
   "cell_type": "code",
   "execution_count": 26,
   "metadata": {},
   "outputs": [],
   "source": [
    "import re"
   ]
  },
  {
   "cell_type": "code",
   "execution_count": 27,
   "metadata": {},
   "outputs": [],
   "source": [
    "#opening the text file to be used throughout this part of the report\n",
    "f=open('NYT_2010_06_01.txt','r')\n",
    "NYT=f.read()\n",
    "f.close()"
   ]
  },
  {
   "cell_type": "code",
   "execution_count": 28,
   "metadata": {
    "scrolled": true
   },
   "outputs": [],
   "source": [
    "#assigning a variable\n",
    "number=re.findall(r'[\\d.,]+', NYT)\n",
    "number=[k for k in number if k!='.']\n",
    "number=[k for k in number if k!=',']\n",
    "number=[k for k in number if k!='.,']"
   ]
  },
  {
   "cell_type": "code",
   "execution_count": 29,
   "metadata": {},
   "outputs": [],
   "source": [
    "firstdigitslist=[]\n",
    "for k in number:\n",
    "    firstdigitslist.append(fd(k))    "
   ]
  },
  {
   "cell_type": "markdown",
   "metadata": {},
   "source": [
    "This creates a list that will contain the first digits that are found throughout the text."
   ]
  },
  {
   "cell_type": "code",
   "execution_count": 30,
   "metadata": {},
   "outputs": [],
   "source": [
    "lastdigitslist=[]\n",
    "for k in number:\n",
    "    lastdigitslist.append(ld(k))"
   ]
  },
  {
   "cell_type": "markdown",
   "metadata": {},
   "source": [
    "This creates a list that will contain the last digits that are found throughout the text."
   ]
  },
  {
   "cell_type": "code",
   "execution_count": 31,
   "metadata": {},
   "outputs": [],
   "source": [
    "def countnumber(x):\n",
    "    countdict={}\n",
    "    for i in x:\n",
    "        if i in countdict:\n",
    "            countdict[i]+=1\n",
    "        else: \n",
    "            countdict[i]=1\n",
    "    return countdict"
   ]
  },
  {
   "cell_type": "markdown",
   "metadata": {},
   "source": [
    "This definition counts the amount of times a certain digit appears in the text."
   ]
  },
  {
   "cell_type": "code",
   "execution_count": 32,
   "metadata": {},
   "outputs": [],
   "source": [
    "a=countnumber(firstdigitslist) #assigning a variable to represent the list containing the first digits in the text"
   ]
  },
  {
   "cell_type": "code",
   "execution_count": 33,
   "metadata": {},
   "outputs": [],
   "source": [
    "b=countnumber(lastdigitslist) #assigning a variable to represent the list containing the last digits in the text"
   ]
  },
  {
   "cell_type": "code",
   "execution_count": 34,
   "metadata": {},
   "outputs": [
    {
     "data": {
      "image/png": "[encoded data removed]",
      "text/plain": [
       "<Figure size 1080x720 with 2 Axes>"
      ]
     },
     "metadata": {
      "needs_background": "light"
     },
     "output_type": "display_data"
    }
   ],
   "source": [
    "plt.figure(figsize=(15,10))\n",
    "plt.subplots_adjust(wspace=0.5,hspace=0.5)\n",
    "\n",
    "plt.subplot(2,2,1)\n",
    "plt.bar(a.keys(),a.values())\n",
    "plt.title('First Digits List', fontsize=15)\n",
    "plt.xlabel('Number', fontsize=12)\n",
    "plt.ylabel('Frequency', fontsize=12)\n",
    "\n",
    "plt.subplot(2,2,2)\n",
    "plt.bar(b.keys(),b.values())\n",
    "plt.title('Last Digits List', fontsize=15)\n",
    "plt.xlabel('Number', fontsize=12)\n",
    "plt.ylabel('Frequency', fontsize=12)\n",
    "\n",
    "plt.suptitle('Word Frequency Within Text', fontsize=20)\n",
    "plt.show()"
   ]
  },
  {
   "cell_type": "markdown",
   "metadata": {},
   "source": [
    "These graphs do not seem to be consistent with *Benford's Law* in that the data seems to be random, this still remains consistent with the law in that it must relate with numerical data, whereas this part analyzes the digits found on a text."
   ]
  },
  {
   "cell_type": "markdown",
   "metadata": {},
   "source": [
    "## Conclusion"
   ]
  },
  {
   "cell_type": "markdown",
   "metadata": {},
   "source": [
    "The first digits of the columns of the data set seem to be numbers less than 5, whereas the last digits that appear in a given data set seem to be uncorrelated. Benford's Law remains consistent with the data found in various sources that seem to be based on numerical data, however does not seem to be consistent with data found in a random text article."
   ]
  },
  {
   "cell_type": "code",
   "execution_count": 35,
   "metadata": {},
   "outputs": [
    {
     "data": {
      "image/png": "[encoded data removed]",
      "text/plain": [
       "<Figure size 432x288 with 1 Axes>"
      ]
     },
     "metadata": {
      "needs_background": "light"
     },
     "output_type": "display_data"
    }
   ],
   "source": [
    "xlist=[i for i in range(1,100)]\n",
    "ylist=[]\n",
    "for j in xlist:\n",
    "    y = np.log(1+(1/j))\n",
    "    ylist.append(y)\n",
    "plt.plot(xlist,ylist)\n",
    "plt.show()"
   ]
  },
  {
   "cell_type": "markdown",
   "metadata": {},
   "source": [
    "This graph represents Benford's Law as a log function, which seems to be the shape of the first digits graphs in all of the sources from above except for the capital distances, which is due to insufficient data."
   ]
  }
 ],
 "metadata": {
  "kernelspec": {
   "display_name": "Python 3",
   "language": "python",
   "name": "python3"
  },
  "language_info": {
   "codemirror_mode": {
    "name": "ipython",
    "version": 3
   },
   "file_extension": ".py",
   "mimetype": "text/x-python",
   "name": "python",
   "nbconvert_exporter": "python",
   "pygments_lexer": "ipython3",
   "version": "3.7.3"
  }
 },
 "nbformat": 4,
 "nbformat_minor": 2
}
