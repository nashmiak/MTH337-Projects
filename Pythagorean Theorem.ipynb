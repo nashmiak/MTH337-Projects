{
 "cells": [
  {
   "cell_type": "markdown",
   "metadata": {},
   "source": [
    "## Introduction"
   ]
  },
  {
   "cell_type": "markdown",
   "metadata": {},
   "source": [
    "The `Pythagorean Theorem` depicts the fundamental relations between the sides of a right triangle.  It states that the area of the square whose side is the hypotenuse (c) is equal to the sum of the areas of the squares on the other two sides (a,b). Thus creating the formula:\n",
    "$$a^2+b^2=c^2$$\n",
    "\n",
    "The triples that are created when satisfying this theorem, (a,b,c), can be called `Pythagorean Triples`. These triples can be depicted and plotted on a graph to see the correlation between the triples of a certain number, c.\n",
    "\n",
    "Furthermore, the function created from the pythagorean theorem can be manipulated to be written as:\n",
    "\n",
    "$$\\sqrt{a^2+b^2}=c$$\n",
    "\n",
    "Instead of finding $c^2$, this formula gives you the length of side c as an answer, which quickly helps to decompose and find the other two integers, a and b, that also satisfy the equation. These two integers, a and b, that satisfy $\\sqrt{a^2+b^2}=c$ can be called `Pythagorean Tuples`. These groups of integers can also be plotted on a graph to show the correlation of the value c with respect to it's tuple. The goal of this project is to decompose the structure and lists that come about various inputs of the pythagorean theorem in order for the correlation between the length of it's sides to be depicted on a graph.\n",
    "\n"
   ]
  },
  {
   "cell_type": "markdown",
   "metadata": {},
   "source": [
    "## Part 1"
   ]
  },
  {
   "cell_type": "markdown",
   "metadata": {},
   "source": [
    "Write the function that returns True if n is a perfect square or False otherwise."
   ]
  },
  {
   "cell_type": "code",
   "execution_count": 91,
   "metadata": {},
   "outputs": [],
   "source": [
    "def issquare(n): \n",
    "    if n**0.5==round(n**0.5): #This function recognizes the existence of a perfect square.  \n",
    "        return True #This shows that the function will return True if n is a perfect square. \n",
    "    return False #This shows that the function will return False if n is not a perfect square. "
   ]
  },
  {
   "cell_type": "code",
   "execution_count": 92,
   "metadata": {},
   "outputs": [
    {
     "data": {
      "text/plain": [
       "True"
      ]
     },
     "execution_count": 92,
     "metadata": {},
     "output_type": "execute_result"
    }
   ],
   "source": [
    "issquare(25)"
   ]
  },
  {
   "cell_type": "code",
   "execution_count": 93,
   "metadata": {
    "scrolled": true
   },
   "outputs": [
    {
     "data": {
      "text/plain": [
       "False"
      ]
     },
     "execution_count": 93,
     "metadata": {},
     "output_type": "execute_result"
    }
   ],
   "source": [
    "issquare(101)"
   ]
  },
  {
   "cell_type": "markdown",
   "metadata": {},
   "source": [
    "Write the function that takes the definition `issquare(n)` to add perfect squares, c, to a list of integers, a and b, whose squared sum gives the $\\sqrt{c}$."
   ]
  },
  {
   "cell_type": "code",
   "execution_count": 94,
   "metadata": {},
   "outputs": [],
   "source": [
    "from math import sqrt\n",
    "\n",
    "def ptriples(n): #This function defines the pythagorean triples for a number, n.\n",
    "    ptripleslist=[] #This function stores each set of pythagorean triples for a number,n in a list.\n",
    "    for a in range (1,n): \n",
    "        for b in range (1,n): #These functions set the range to restrain the triples in the list to not be greater than n. \n",
    "            c=((a**2)+(b**2)) #Assigns c to equal the alternative version of the pythagorean theorem.\n",
    "            if issquare(c): #C must satisfy the conditions of being a perfect square.\n",
    "                ptripleslist.append([a,b,round(sqrt(c))]) #Adds the lengths of the sides, and the perfect square, c, to the list of pythagorean triples.\n",
    "    return ptripleslist"
   ]
  },
  {
   "cell_type": "code",
   "execution_count": 95,
   "metadata": {
    "scrolled": true
   },
   "outputs": [
    {
     "name": "stdout",
     "output_type": "stream",
     "text": [
      "[[3, 4, 5], [4, 3, 5], [5, 12, 13], [6, 8, 10], [7, 24, 25], [8, 6, 10], [8, 15, 17], [9, 12, 15], [10, 24, 26], [12, 5, 13], [12, 9, 15], [12, 16, 20], [15, 8, 17], [15, 20, 25], [16, 12, 20], [18, 24, 30], [20, 15, 25], [20, 21, 29], [21, 20, 29], [24, 7, 25], [24, 10, 26], [24, 18, 30]]\n"
     ]
    }
   ],
   "source": [
    "print(ptriples(25))"
   ]
  },
  {
   "cell_type": "code",
   "execution_count": 96,
   "metadata": {
    "scrolled": false
   },
   "outputs": [
    {
     "name": "stdout",
     "output_type": "stream",
     "text": [
      "[[3, 4, 5], [4, 3, 5], [5, 12, 13], [6, 8, 10], [8, 6, 10], [8, 15, 17], [9, 12, 15], [12, 5, 13], [12, 9, 15], [12, 16, 20], [15, 8, 17], [16, 12, 20]]\n"
     ]
    }
   ],
   "source": [
    "print(ptriples(20))"
   ]
  },
  {
   "cell_type": "markdown",
   "metadata": {},
   "source": [
    "## Part 2"
   ]
  },
  {
   "cell_type": "markdown",
   "metadata": {},
   "source": [
    "Write the function that shows the plot of pythagorean tuples for any given n value."
   ]
  },
  {
   "cell_type": "code",
   "execution_count": 97,
   "metadata": {},
   "outputs": [],
   "source": [
    "import matplotlib.pyplot as plt"
   ]
  },
  {
   "cell_type": "code",
   "execution_count": 98,
   "metadata": {},
   "outputs": [],
   "source": [
    "def plotptriples(n): #This function defines what will be incorporated within the graph of tuples.\n",
    "    \n",
    "    ptriples(n)\n",
    "    xlist=[x[0] for x in ptriples(n)]\n",
    "    ylist=[x[1] for x in ptriples(n)]\n",
    "#This shows the inclusion of just the first and second elements within the list of ptriples defined earlier.\n",
    "\n",
    "    plt.plot(xlist,ylist,'.r')\n",
    "    plt.title('Pythagorean Tuples', fontsize=20)\n",
    "    \n",
    "    plt.show()"
   ]
  },
  {
   "cell_type": "code",
   "execution_count": 99,
   "metadata": {},
   "outputs": [
    {
     "data": {
      "image/png": "[encoded data removed]",
      "text/plain": [
       "<Figure size 432x288 with 1 Axes>"
      ]
     },
     "metadata": {
      "needs_background": "light"
     },
     "output_type": "display_data"
    }
   ],
   "source": [
    "plotptriples(500)"
   ]
  },
  {
   "cell_type": "markdown",
   "metadata": {},
   "source": [
    "Write the code that will add and emphasize the multiples of one single tuple in lists."
   ]
  },
  {
   "cell_type": "code",
   "execution_count": 100,
   "metadata": {},
   "outputs": [],
   "source": [
    "xmult=[] \n",
    "ymult=[]\n",
    "#Empty lists to store the multiples of the tuple.\n",
    "\n",
    "tp=[5,12,13] #This is the tuple list I will have my focus on.\n",
    "for x in range(1,100): #Let's x plot the first hundred multiples of the tuple.\n",
    "    xmult.append(tp[0]*x) \n",
    "    ymult.append(tp[0]*x) \n",
    "#This function takes each x within the range and multiplies it with the first element in my tuple list, 5, to add onto another list."
   ]
  },
  {
   "cell_type": "markdown",
   "metadata": {},
   "source": [
    "Write the code that plots the tuples in each pythagorean triple for a given n=500, emphasizing one single tuple on the graph."
   ]
  },
  {
   "cell_type": "code",
   "execution_count": 101,
   "metadata": {},
   "outputs": [],
   "source": [
    "def plotptriples(n): #Defines what will be going in this plot of pythagorean triples.\n",
    "    \n",
    "    ptriples(n)\n",
    "    xlist=[x[0] for x in ptriples(n)]\n",
    "    ylist=[x[1] for x in ptriples(n)]\n",
    "#Created 2 lists to store the 1st and 2nd elements within my function, ptriples(n).\n",
    "    plt.plot(xlist,ylist,'.r', label='Tuples')\n",
    "    plt.plot(xmult,ymult,'.b', label='Tuple [5,12]')\n",
    "    plt.title('Tuples of 500', fontsize=20)\n",
    "    plt.legend()\n",
    "    plt.show()"
   ]
  },
  {
   "cell_type": "code",
   "execution_count": 102,
   "metadata": {
    "scrolled": true
   },
   "outputs": [
    {
     "data": {
      "image/png": "[encoded data removed]",
      "text/plain": [
       "<Figure size 432x288 with 1 Axes>"
      ]
     },
     "metadata": {
      "needs_background": "light"
     },
     "output_type": "display_data"
    }
   ],
   "source": [
    "plotptriples(500)"
   ]
  },
  {
   "cell_type": "markdown",
   "metadata": {},
   "source": [
    "## Part 3"
   ]
  },
  {
   "cell_type": "markdown",
   "metadata": {},
   "source": [
    "Write the function that finds the greatest common denominator (GCD) between two numbers in order to figure out the prime numbers within a pythagorean triple."
   ]
  },
  {
   "cell_type": "code",
   "execution_count": 103,
   "metadata": {},
   "outputs": [],
   "source": [
    "def mygcd(k,a): #Defined my Greatest Common Denominator function assigning two variables, 'a' and 'k'.\n",
    "    while a!=0: #Stating a constraint that 'a' cannot equal '0'.\n",
    "        if (k<a): \n",
    "            (k,a)=(a, k%a)\n",
    "        else:\n",
    "            k = k-a\n",
    "#Stating that if 'k' is less than 'a', 'k' will be subtracted by 'a' until 'a' can be divisible by 'k'. \n",
    "    return k"
   ]
  },
  {
   "cell_type": "code",
   "execution_count": 104,
   "metadata": {},
   "outputs": [
    {
     "data": {
      "text/plain": [
       "17"
      ]
     },
     "execution_count": 104,
     "metadata": {},
     "output_type": "execute_result"
    }
   ],
   "source": [
    "mygcd(153,34)"
   ]
  },
  {
   "cell_type": "code",
   "execution_count": 105,
   "metadata": {},
   "outputs": [
    {
     "data": {
      "text/plain": [
       "17"
      ]
     },
     "execution_count": 105,
     "metadata": {},
     "output_type": "execute_result"
    }
   ],
   "source": [
    "mygcd(34,153)"
   ]
  },
  {
   "cell_type": "code",
   "execution_count": 106,
   "metadata": {
    "scrolled": true
   },
   "outputs": [
    {
     "data": {
      "text/plain": [
       "1"
      ]
     },
     "execution_count": 106,
     "metadata": {},
     "output_type": "execute_result"
    }
   ],
   "source": [
    "mygcd(3,4)"
   ]
  },
  {
   "cell_type": "markdown",
   "metadata": {},
   "source": [
    "Write the function that plots the prime numbers from any pythagorean tuple using the `mygcd` function on a graph."
   ]
  },
  {
   "cell_type": "code",
   "execution_count": 107,
   "metadata": {},
   "outputs": [],
   "source": [
    "import matplotlib.pyplot as plt\n",
    "\n",
    "xprimeslist = []\n",
    "yprimeslist = []\n",
    "\n",
    "#Created two empty lists to store the primes within the pythagorean tuples.\n",
    "\n",
    "def ptriplesprimes(n): #Defined a function for the prime numbers within a list of any pythagorean triple.\n",
    "    ptripleslist=ptriples(n) #This list will contain the list of prime #'s for any pythagorean triple.    \n",
    "    \n",
    "    for x in ptripleslist:\n",
    "        if (mygcd(x[0],x[1])==1): \n",
    "            xprimeslist.append(x[0])\n",
    "            yprimeslist.append(x[1])\n",
    "#Finds the prime numbers in elements 1 and 2 in `ptripleslist` by checking if the GCD of the elements equals one, then adds each element within that list.   \n",
    "    plt.plot(xprimeslist,yprimeslist,'.')\n",
    "    plt.title('Prime Numbers in Tuples of 1000', fontsize=16)\n",
    "    plt.show()          "
   ]
  },
  {
   "cell_type": "code",
   "execution_count": 108,
   "metadata": {},
   "outputs": [
    {
     "data": {
      "image/png": "[encoded data removed]",
      "text/plain": [
       "<Figure size 432x288 with 1 Axes>"
      ]
     },
     "metadata": {
      "needs_background": "light"
     },
     "output_type": "display_data"
    }
   ],
   "source": [
    "ptriplesprimes(1000)"
   ]
  },
  {
   "cell_type": "markdown",
   "metadata": {},
   "source": [
    "## Conclusion"
   ]
  },
  {
   "cell_type": "markdown",
   "metadata": {},
   "source": [
    "The understanding of `Pythagorean Tuples` is very important in figuring out the concepts behind the pythagorean theorem. When the concepts of the triples, greatest common denominator, and prime numbers  come together to produce the graphs, the correlation can be seen evidently. \n",
    "\n",
    "The pythagorean triples from each of the lists produced can show the tuples, and show the correlation between the tuples as well. These tuples, as can be seen on the graphs to better depict the length of the sides of a right triangle, also prove the fact that there are infinitely many tuples and multiples of tuples that can be plotted for any given value of n."
   ]
  },
  {
   "cell_type": "code",
   "execution_count": null,
   "metadata": {},
   "outputs": [],
   "source": []
  }
 ],
 "metadata": {
  "kernelspec": {
   "display_name": "Python 3",
   "language": "python",
   "name": "python3"
  },
  "language_info": {
   "codemirror_mode": {
    "name": "ipython",
    "version": 3
   },
   "file_extension": ".py",
   "mimetype": "text/x-python",
   "name": "python",
   "nbconvert_exporter": "python",
   "pygments_lexer": "ipython3",
   "version": "3.7.3"
  }
 },
 "nbformat": 4,
 "nbformat_minor": 2
}
