{
 "cells": [
  {
   "cell_type": "markdown",
   "metadata": {},
   "source": [
    "## Introduction"
   ]
  },
  {
   "cell_type": "markdown",
   "metadata": {},
   "source": [
    "For this report two files were given, one that contains a text file consisting of numbers, and the other one containing a list of various letters and words. These two files will be used and adapted throughout the report to create a function, `decryption(msg, key)` that will decipher the text file, which contains a secret message written in code, within the file containing various numbers. In order to derive the decryption code, ASCII codes will be used, which assigns each character on the keyboard a number between 0 and 127. Ultimately, the use of these ASCII codes within the function will return the decrypted text file."
   ]
  },
  {
   "cell_type": "code",
   "execution_count": 23,
   "metadata": {
    "scrolled": true
   },
   "outputs": [],
   "source": [
    "k=open('khan.txt','r') #opens the text file consisting of numbers\n",
    "a=k.read()\n",
    "k.close()\n",
    "msglist = a.split(' ') "
   ]
  },
  {
   "cell_type": "markdown",
   "metadata": {},
   "source": [
    "This inserts and closes the necessary coded message file needed throughout the project in a list, and separates each number individually."
   ]
  },
  {
   "cell_type": "code",
   "execution_count": 24,
   "metadata": {},
   "outputs": [],
   "source": [
    "d=open('dizio.txt','r') #Opens the text file consisting of the secret dictionary\n",
    "secretd=d.read()\n",
    "d.close()\n",
    "keylist = secretd.split('\\n')\n",
    "keylist = keylist[:-1] #Takes out any extra spacing within the secret dictionary"
   ]
  },
  {
   "cell_type": "markdown",
   "metadata": {},
   "source": [
    "This inserts and closes the necessary coded dictionary file needed throughout the project in a list, and separates each word within the dictionary individually."
   ]
  },
  {
   "cell_type": "code",
   "execution_count": 25,
   "metadata": {
    "scrolled": true
   },
   "outputs": [],
   "source": [
    "def decryption(msg, key): #Defines the function used to decrypt the coded message\n",
    "    lk=len(key)\n",
    "    lm=len(msg)\n",
    "    k=lm//lk\n",
    "    r=lm%lk\n",
    "    longk=k*key+key[:r] #Makes the length of the secret dictionary to be within the range of the secret message  \n",
    "    decrypt=[]\n",
    "    for i in range(lm):    \n",
    "        decrypt.append(((int(msg[i]))-(ord(longk[i])))%128) #Inclusion of ASCII codes within the secret key and dictionary\n",
    "    mylist = [chr(k) for k in decrypt] #Converts ASCII codes into characters\n",
    "    return ''.join(mylist)"
   ]
  },
  {
   "cell_type": "markdown",
   "metadata": {},
   "source": [
    "This defines the function needed to decrypt the secret message text file, while taking into consideration the ASCII codes used to decipher the message."
   ]
  },
  {
   "cell_type": "code",
   "execution_count": 26,
   "metadata": {},
   "outputs": [],
   "source": [
    "dmsglist=decryption(msglist,'apple') #Example to test the decryption of the word 'apple'"
   ]
  },
  {
   "cell_type": "code",
   "execution_count": 27,
   "metadata": {
    "scrolled": false
   },
   "outputs": [
    {
     "name": "stdout",
     "output_type": "stream",
     "text": [
      "Wneb\u0006k\u0019Y^.pYk**5Nfpeps\u001d",
      "LPqecr\u0000'\u0016\u0004*d`w#{lLk o~he]\u000b",
      "op\u0011s\u0003(ULo|sknk+\u000faqi-W\u0003kMvw\u0011flwfLnsa1`\u0019kPqnVz8(\u0014)#oaxd\u001d",
      "nUsac-omhVsmfvhh#Mx ]\u0005sZ[S{a_z*|c\f",
      "#ty\f",
      "o^rbhkcn\u0002^\u0014IxYwvmdSl b\u0000q%\u0018_va\u0011jkv[Euvuu\u001fjxbsagvsl\u0014Sp+`eheq\u0000so\u001c",
      "\u0005gZlu~n`jkhIru qe\u001d",
      "sWd\u001c",
      "b|\u0001m\u0014MwlXkqewIue\u001c",
      "\u0000e\u0019eZract*xcEwz.\"\u001fQgTqa\u0015v\u0001\u0019gSwpejlrjj`t\u001c",
      "\bnkc\u000b",
      "wj\u0011s\u0003(gOxs ygfbW\u001fE\u0015q}\u0019bS~+fpgiuSsaju-\u0019\u00184.]^&zzUCwpcckixyhjY\u0002\u0001mfMy\u0000d\"selNrt]|hg_\u0017.]\u0011}yz_Mdu vn\u001d",
      "dgd_j\u0001s\u0019kM~s\u0011rhvvEuenrm\\]\u000b",
      "ojU\u0010viVOxy dtq\u001fQdo^qsl\u0014Xrtd\"wlhRd e\u0004\u001fZ\u0018W}rV&pwf\u0000woe\"l^qedha|\u0003l \u0004k+SgomhF\tij1sa]\u000b",
      "{]c|ot`Oxz,\"hksTqplv|^X\u0004sy\u0011cop#Mx l\u0003nc]N\u0002o\u001d",
      "&\u0001p]Ck'hwqohTr\u001c",
      "br.hiX\u0014zW\"wlh\u0000boi~ng\u0018[opY}k\u0001g\u0000rm odk+\u000fdrZ{.mc\u0004~sV\"zmoD\u001fsar\u001fZfO.q_|s{]Thk\n",
      "tddh^mo\u0015V.Za\u0004km`ww$wO\u001fet\u0001khjP<\n"
     ]
    }
   ],
   "source": [
    "print(dmsglist)"
   ]
  },
  {
   "cell_type": "markdown",
   "metadata": {},
   "source": [
    "This is an example of what the word 'apple' would look like in it's encrypted form using the created decryption function."
   ]
  },
  {
   "cell_type": "code",
   "execution_count": 28,
   "metadata": {
    "scrolled": true
   },
   "outputs": [
    {
     "name": "stdout",
     "output_type": "stream",
     "text": [
      "Polaroid\n",
      "\n",
      "I cannot describe to you my sensations on the near prospect of my\n",
      "undertaking.  It is impossible to communicate to you a conception of\n",
      "the trembling sensation, half pleasurable and half fearful, with which\n",
      "I am preparing to depart.  I am going to unexplored regions, to \"the\n",
      "land of mist and snow,\" but I shall kill no albatross; therefore do not\n",
      "be alarmed for my safety or if I should come back to you as worn and\n",
      "woeful as the \"Ancient Mariner.\"  You will smile at my allusion, but I\n",
      "will disclose a secret.  I have often attributed my attachment to, my\n",
      "passionate enthusiasm for, the dangerous mysteries of ocean to that\n",
      "production of the most imaginative of modern poets.  There is something\n",
      "at work in my soul which I do not understand.  I am practically\n",
      "industrious painstaking, a workman to execute with perseverance and\n",
      "labour but besides this there is a love for the marvellous, a belief\n",
      "in the marvellous, intertwined in all my projects, which hurries me out\n",
      "of the common pathways of men, even to the wild sea and unvisited\n",
      "regions I am about to explore.\n"
     ]
    }
   ],
   "source": [
    "#This part of the report includes the necessary secret dictionary list to be adapted into the given secret message while \n",
    "# using the created decryption function.\n",
    "for n in keylist:\n",
    "    pippo=decryption(msglist,n)\n",
    "    if ('and ' in pippo) and ('or 'in pippo) and ('the 'in pippo):\n",
    "        print(n+'\\n') #Checks the function to make sure the ASCII characters will be able to return a word\n",
    "        print(pippo)"
   ]
  },
  {
   "cell_type": "markdown",
   "metadata": {},
   "source": [
    "This is my secret message successfully decrypted."
   ]
  },
  {
   "cell_type": "markdown",
   "metadata": {},
   "source": [
    "## Conclusion"
   ]
  },
  {
   "cell_type": "markdown",
   "metadata": {},
   "source": [
    "The function, `decryption(msg, key)`, is ultimately used to encrypt various parts of the message, while the `for` loop uses the enrypted message to decrypt certain words in the text file that was once a list of random numbers."
   ]
  },
  {
   "cell_type": "code",
   "execution_count": null,
   "metadata": {},
   "outputs": [],
   "source": []
  }
 ],
 "metadata": {
  "kernelspec": {
   "display_name": "Python 3",
   "language": "python",
   "name": "python3"
  },
  "language_info": {
   "codemirror_mode": {
    "name": "ipython",
    "version": 3
   },
   "file_extension": ".py",
   "mimetype": "text/x-python",
   "name": "python",
   "nbconvert_exporter": "python",
   "pygments_lexer": "ipython3",
   "version": "3.7.3"
  }
 },
 "nbformat": 4,
 "nbformat_minor": 2
}
